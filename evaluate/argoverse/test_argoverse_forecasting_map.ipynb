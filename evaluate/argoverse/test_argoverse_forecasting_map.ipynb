{
 "cells": [
  {
   "cell_type": "code",
   "execution_count": 1,
   "metadata": {},
   "outputs": [],
   "source": [
    "%load_ext autoreload\n",
    "%autoreload 2\n",
    "%reload_ext autoreload"
   ]
  },
  {
   "cell_type": "code",
   "execution_count": 2,
   "metadata": {},
   "outputs": [
    {
     "name": "stdout",
     "output_type": "stream",
     "text": [
      "Total number of sequences: 205942\n"
     ]
    }
   ],
   "source": [
    "import git\n",
    "import sys\n",
    "import os\n",
    "import time\n",
    "import numpy as np\n",
    "import pandas as pd\n",
    "import math\n",
    "import matplotlib.pyplot as plt\n",
    "\n",
    "from collections import defaultdict, OrderedDict\n",
    "\n",
    "from argoverse.data_loading.argoverse_forecasting_loader import ArgoverseForecastingLoader\n",
    "from argoverse.visualization.visualize_sequences import viz_sequence\n",
    "from argoverse.map_representation.map_api import ArgoverseMap\n",
    "\n",
    "repo = git.Repo('.', search_parent_directories=True)\n",
    "BASE_DIR = repo.working_tree_dir\n",
    "sys.path.append(BASE_DIR)\n",
    "\n",
    "import model.datasets.argoverse.dataset as dataset\n",
    "import model.datasets.argoverse.dataset_utils as dataset_utils \n",
    "import model.datasets.argoverse.map_functions as map_functions\n",
    "\n",
    "avm = ArgoverseMap()\n",
    "\n",
    "obs_len = 20 # steps\n",
    "pred_len = 30 # steps\n",
    "freq = 10 # Hz (\"steps/s\")\n",
    "obs_origin = 20 "
   ]
  },
  {
   "cell_type": "code",
   "execution_count": 29,
   "metadata": {},
   "outputs": [
    {
     "name": "stdout",
     "output_type": "stream",
     "text": [
      "Total number of sequences: 205942\n",
      "Num files:  205942\n"
     ]
    }
   ],
   "source": [
    "# Set root_dir to the correct path to your dataset folder\n",
    "\n",
    "split_name = \"train\"\n",
    "root_dir = os.path.join(BASE_DIR,f'data/datasets/argoverse/motion-forecasting/{split_name}/data/')\n",
    "afl = ArgoverseForecastingLoader(root_dir)\n",
    "print('Total number of sequences:',len(afl))\n",
    "\n",
    "files, num_files = dataset_utils.load_list_from_folder(root_dir)\n",
    "\n",
    "file_id_list = []\n",
    "root_file_name = None\n",
    "for file_name in files:\n",
    "    if not root_file_name:\n",
    "        root_file_name = os.path.dirname(os.path.abspath(file_name))\n",
    "    file_id = int(os.path.normpath(file_name).split('/')[-1].split('.')[0])\n",
    "    file_id_list.append(file_id)\n",
    "file_id_list.sort()\n",
    "print(\"Num files: \", num_files)"
   ]
  },
  {
   "cell_type": "code",
   "execution_count": 133,
   "metadata": {},
   "outputs": [
    {
     "name": "stdout",
     "output_type": "stream",
     "text": [
      "unique distances:  [5.060152083293924, 8.547193578203167, 8.969222042257968]\n",
      "filename:  /home/denso/carlos_vsr_workspace/mapfe4mp/data/datasets/argoverse/motion-forecasting/train/map_features/77_relevant_centerlines.png\n"
     ]
    },
    {
     "data": {
      "image/png": "[encoded data removed]",
      "text/plain": [
       "<Figure size 432x432 with 1 Axes>"
      ]
     },
     "metadata": {},
     "output_type": "display_data"
    },
    {
     "name": "stdout",
     "output_type": "stream",
     "text": [
      "Candidate centerlines using Argoverse Map API:  0.1990187168121338\n"
     ]
    }
   ],
   "source": [
    "seq_id = 77\n",
    "# seq_id = 188893\n",
    "viz = True\n",
    "\n",
    "RAW_DATA_FORMAT = {\n",
    "    \"TIMESTAMP\": 0,\n",
    "    \"TRACK_ID\": 1,\n",
    "    \"OBJECT_TYPE\": 2,\n",
    "    \"X\": 3,\n",
    "    \"Y\": 4,\n",
    "    \"CITY_NAME\": 5,\n",
    "}\n",
    "\n",
    "root_dir = os.path.join(BASE_DIR,f'data/datasets/argoverse/motion-forecasting/{split_name}/data/')\n",
    "seq_path = f\"{root_dir}/{seq_id}.csv\"\n",
    "\n",
    "# Visualize sequence\n",
    "\n",
    "# start = time.time()\n",
    "# viz_sequence(afl.get(seq_path).seq_df, show=viz)\n",
    "# end = time.time()\n",
    "# print(\"Viz seq: \", end-start)\n",
    "\n",
    "# Visualize centerlines\n",
    "\n",
    "df = pd.read_csv(seq_path, dtype={\"TIMESTAMP\": str})\n",
    "agent_track = df[df[\"OBJECT_TYPE\"] == \"AGENT\"].values\n",
    "agent_xy = agent_track[:,[RAW_DATA_FORMAT[\"X\"],RAW_DATA_FORMAT[\"Y\"]]].astype(\"float\")\n",
    "origin_pos = agent_xy[obs_len-1,:]\n",
    "city_name = agent_track[0, RAW_DATA_FORMAT[\"CITY_NAME\"]]\n",
    "map_features_utils_instance = map_functions.MapFeaturesUtils()\n",
    "\n",
    "mode = \"test\"\n",
    "\n",
    "## Using Argoverse competition baseline\n",
    "\n",
    "# start = time.time()\n",
    "\n",
    "# map_features, map_feature_helpers = map_features_utils_instance.compute_map_features(\n",
    "#         agent_track,\n",
    "#         seq_id,\n",
    "#         split_name,\n",
    "#         obs_len,\n",
    "#         obs_len + pred_len,\n",
    "#         RAW_DATA_FORMAT,\n",
    "#         mode, # mode (if test, return K plausible candidates. Otherwise, return best possible candidate)\n",
    "#         avm,\n",
    "#         viz=viz,\n",
    "#         #max_candidates=2\n",
    "#         algorithm=\"competition\" # competition, map_api, get_around  \n",
    "#     )\n",
    "\n",
    "# end = time.time()\n",
    "# print(\"Candidate centerlines using Argoverse forecasting baseline: \", end-start)\n",
    "\n",
    "## Using Map API\n",
    "\n",
    "start = time.time()\n",
    "\n",
    "map_features, map_feature_helpers = map_features_utils_instance.compute_map_features(\n",
    "        agent_track,\n",
    "        seq_id,\n",
    "        split_name,\n",
    "        obs_len,\n",
    "        obs_len + pred_len,\n",
    "        RAW_DATA_FORMAT,\n",
    "        mode, # mode (if test, return K plausible candidates. Otherwise, return best possible candidate)\n",
    "        avm,\n",
    "        viz=viz,\n",
    "        #max_candidates=2\n",
    "        algorithm=\"map_api\" # competition, map_api, get_around  \n",
    "    )\n",
    "map_features_ = map_features\n",
    "map_feature_helpers_ = map_feature_helpers\n",
    "\n",
    "end = time.time()\n",
    "print(\"Candidate centerlines using Argoverse Map API: \", end-start)\n",
    "\n",
    "### Computing lanes around center, given dist_around\n",
    "\n",
    "# start = time.time()\n",
    "\n",
    "# map_features, map_feature_helpers = map_features_utils_instance.compute_map_features(\n",
    "#         agent_track,\n",
    "#         seq_id,\n",
    "#         split_name,\n",
    "#         obs_len,\n",
    "#         obs_len + pred_len,\n",
    "#         RAW_DATA_FORMAT,\n",
    "#         \"test\", # mode (if test, return K plausible candidates. Otherwise, return best possible candidate)\n",
    "#         avm,\n",
    "#         viz=viz,\n",
    "#         #max_candidates=2\n",
    "#         algorithm=\"get_around\" # competition, map_api, get_around  \n",
    "#     )\n",
    "\n",
    "# end = time.time()\n",
    "# print(\"Candidate centerlines computing lanes around: \", end-start)\n",
    "\n",
    "# # Visualize nearest centerline\n",
    "\n",
    "# start = time.time()\n",
    "# nearest_centerline = avm.get_nearest_centerline(np.array(origin_pos), city_name, visualize=viz)\n",
    "# end = time.time()\n",
    "# print(\"Nearest centerline: \", end-start)\n",
    "\n",
    "# # Visualize lane direction in the last observation frame\n",
    "\n",
    "# agent_traj = afl.get(seq_path).agent_traj\n",
    "# start = time.time()\n",
    "# lane_direction = avm.get_lane_direction(agent_traj[0], city_name, visualize=viz)\n",
    "# end = time.time()\n",
    "# print(\"Get lane direction: \", end-start)"
   ]
  },
  {
   "cell_type": "code",
   "execution_count": 128,
   "metadata": {},
   "outputs": [
    {
     "name": "stdout",
     "output_type": "stream",
     "text": [
      "Filter:  least_squares\n",
      "Min weight, max weight:  1 4\n",
      "Vel:  [9.56100423 9.54170803 9.52241278 9.50311846 9.4838251  9.46453269\n",
      " 9.44524124 9.42595076 9.40666125 9.38737272 9.36808518 9.34879863\n",
      " 9.32951307 9.31022853 9.29094499 9.27166246 9.25238096 9.23310049\n",
      " 9.21382106]\n",
      "vel averaged:  9.213821056656043\n",
      "Acc:  [-0.19296198 -0.19295259 -0.19294315 -0.19293365 -0.1929241  -0.19291448\n",
      " -0.19290481 -0.19289507 -0.19288528 -0.19287543 -0.19286551 -0.19285553\n",
      " -0.19284549 -0.19283539 -0.19282523 -0.192815   -0.19280471 -0.19279435]\n",
      "acc averaged:  -0.1928608116518368\n",
      "Estimated horizon without acceleration:  27.641463169968127\n",
      "Estimated horizon with acceleration:  26.773589517534862\n"
     ]
    },
    {
     "data": {
      "image/png": "[encoded data removed]",
      "text/plain": [
       "<Figure size 432x288 with 2 Axes>"
      ]
     },
     "metadata": {
      "needs_background": "light"
     },
     "output_type": "display_data"
    }
   ],
   "source": [
    "xy = agent_xy[:obs_len,:]\n",
    "xy.shape\n",
    "\n",
    "vel, acc, xy_filtered, extended_xy_filtered = map_features_utils_instance.get_agent_velocity_and_acceleration(xy,\n",
    "                                                                                               filter=\"least_squares\",\n",
    "                                                                                               debug=True)"
   ]
  },
  {
   "cell_type": "code",
   "execution_count": 129,
   "metadata": {},
   "outputs": [],
   "source": [
    "distance_travelled = 0\n",
    "max_dist = 100 # Hypothesis: max distance in 3 s\n",
    "\n",
    "index_max_dist = -1\n",
    "\n",
    "for i in range(extended_xy_filtered.shape[0]-1):\n",
    "    if i >= obs_len:\n",
    "        dist = np.linalg.norm((extended_xy_filtered[i+1,:] - extended_xy_filtered[i,:]))\n",
    "        distance_travelled += dist\n",
    "\n",
    "        if distance_travelled > max_dist and index_max_dist == -1:\n",
    "            index_max_dist = i\n",
    "\n",
    "reference_point = extended_xy_filtered[index_max_dist,:]"
   ]
  },
  {
   "cell_type": "code",
   "execution_count": 130,
   "metadata": {},
   "outputs": [],
   "source": [
    "candidate_centerlines = map_feature_helpers[\"CANDIDATE_CENTERLINES\"]"
   ]
  },
  {
   "cell_type": "code",
   "execution_count": 131,
   "metadata": {},
   "outputs": [
    {
     "name": "stdout",
     "output_type": "stream",
     "text": [
      "Time:  0.0002627372741699219\n"
     ]
    }
   ],
   "source": [
    "start = time.time()\n",
    "distances = []\n",
    "for centerline in candidate_centerlines:\n",
    "    distances.append(min(np.linalg.norm((centerline - reference_point),axis=1)))\n",
    "end = time.time()\n",
    "print(\"Time: \", end-start)"
   ]
  },
  {
   "cell_type": "code",
   "execution_count": 132,
   "metadata": {},
   "outputs": [
    {
     "data": {
      "text/plain": [
       "{2.1803757366837284, 3.9610525453314542, 14.85773855797649, 16.02036127595932}"
      ]
     },
     "execution_count": 132,
     "metadata": {},
     "output_type": "execute_result"
    }
   ],
   "source": [
    "unique_distances = list(set(distances))\n",
    "\n",
    "final_indeces = [np.where(distances == unique_distance)[0][0] for unique_distance in unique_distances]\n",
    "\n",
    "final_indeces\n",
    "set(distances)"
   ]
  },
  {
   "cell_type": "code",
   "execution_count": 126,
   "metadata": {},
   "outputs": [
    {
     "data": {
      "text/plain": [
       "[0.35667279425416926,\n",
       " 3.3253713968144596,\n",
       " 60.17858520401046,\n",
       " 60.946726774477234,\n",
       " 61.74980639604847]"
      ]
     },
     "execution_count": 126,
     "metadata": {},
     "output_type": "execute_result"
    }
   ],
   "source": [
    "unique_distances = list(set(distances))\n",
    "unique_distances"
   ]
  },
  {
   "cell_type": "code",
   "execution_count": null,
   "metadata": {},
   "outputs": [],
   "source": []
  }
 ],
 "metadata": {
  "kernelspec": {
   "display_name": "Python 3.8.13 ('carlos_vsr_mapfe4mp')",
   "language": "python",
   "name": "python3"
  },
  "language_info": {
   "codemirror_mode": {
    "name": "ipython",
    "version": 3
   },
   "file_extension": ".py",
   "mimetype": "text/x-python",
   "name": "python",
   "nbconvert_exporter": "python",
   "pygments_lexer": "ipython3",
   "version": "3.8.13"
  },
  "orig_nbformat": 4,
  "vscode": {
   "interpreter": {
    "hash": "23ec5f46142f59639cbc0610b784427ad5a7b29b5f6f786971843ba12bc604ed"
   }
  }
 },
 "nbformat": 4,
 "nbformat_minor": 2
}
