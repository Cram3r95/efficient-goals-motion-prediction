{
 "cells": [
  {
   "cell_type": "code",
   "execution_count": 1,
   "metadata": {},
   "outputs": [],
   "source": [
    "import cv2\n",
    "import numpy as np\n",
    "import os\n",
    "import sys\n",
    "import math\n",
    "import torch"
   ]
  },
  {
   "cell_type": "code",
   "execution_count": 2,
   "metadata": {},
   "outputs": [
    {
     "name": "stdout",
     "output_type": "stream",
     "text": [
      "INFO:argoverse.data_loading.vector_map_loader:Loaded root: ArgoverseVectorMap\n",
      "INFO:argoverse.data_loading.vector_map_loader:Loaded root: ArgoverseVectorMap\n",
      "INFO:argoverse.data_loading.vector_map_loader:Loaded root: ArgoverseVectorMap\n",
      "INFO:argoverse.data_loading.vector_map_loader:Loaded root: ArgoverseVectorMap\n"
     ]
    }
   ],
   "source": [
    "BASE_DIR = \"/home/denso/carlos_vsr_workspace/efficient-goals-motion-prediction\"\n",
    "sys.path.append(BASE_DIR)\n",
    "\n",
    "import model.datasets.argoverse.dataset_utils as dataset_utils\n",
    "import model.datasets.argoverse.dataset as dataset\n",
    "import model.datasets.argoverse.map_functions as map_functions \n",
    "import model.datasets.argoverse.goal_points_functions as goal_points_functions                                              \n",
    "\n",
    "from argoverse.map_representation.map_api import ArgoverseMap\n",
    "\n",
    "avm = ArgoverseMap()"
   ]
  },
  {
   "cell_type": "code",
   "execution_count": 3,
   "metadata": {},
   "outputs": [
    {
     "name": "stdout",
     "output_type": "stream",
     "text": [
      "Num files:  205942\n"
     ]
    }
   ],
   "source": [
    "# Load files\n",
    "\n",
    "dataset_path = \"data/datasets/argoverse/motion-forecasting/\"\n",
    "split = \"train\"\n",
    "split_folder = BASE_DIR + \"/\" + dataset_path + split\n",
    "data_folder = BASE_DIR + \"/\" + dataset_path + split + \"/data/\"\n",
    "data_images_folder = BASE_DIR + \"/\" + dataset_path + split + \"/data_images\"\n",
    "\n",
    "files, num_files = dataset_utils.load_list_from_folder(data_folder)\n",
    "\n",
    "file_id_list = []\n",
    "root_file_name = None\n",
    "for file_name in files:\n",
    "    if not root_file_name:\n",
    "        root_file_name = os.path.dirname(os.path.abspath(file_name))\n",
    "    file_id = int(os.path.normpath(file_name).split('/')[-1].split('.')[0])\n",
    "    file_id_list.append(file_id)\n",
    "file_id_list.sort()\n",
    "print(\"Num files: \", num_files)"
   ]
  },
  {
   "cell_type": "code",
   "execution_count": 44,
   "metadata": {},
   "outputs": [
    {
     "data": {
      "image/png": "[encoded data removed]",
      "text/plain": [
       "<Figure size 432x432 with 1 Axes>"
      ]
     },
     "metadata": {},
     "output_type": "display_data"
    }
   ],
   "source": [
    "# Generate a rasterized representation of the map \n",
    "# (Just to illustrate the driveable area, not required in our algorithm)\n",
    "\n",
    "import model.datasets.argoverse.map_functions as map_functions\n",
    "\n",
    "file_id = \"19\" # Override this variable to compute a different local map\n",
    "dist_around = 40 # m around the ego-vehicle\n",
    "dist_rasterized_map = [-dist_around, dist_around, -dist_around, dist_around]  \n",
    "\n",
    "path = os.path.join(root_file_name,str(file_id)+\".csv\")\n",
    "data = dataset_utils.read_file(path) \n",
    "\n",
    "origin_pos, city_name = dataset_utils.get_origin_and_city(data,20)\n",
    "origin_pos = origin_pos[0].tolist() # [x,y]\n",
    "\n",
    "map_functions.map_generator(file_id,\n",
    "                            origin_pos,\n",
    "                            dist_rasterized_map,\n",
    "                            avm,\n",
    "                            city_name,\n",
    "                            show=False,\n",
    "                            root_folder=data_images_folder)"
   ]
  },
  {
   "cell_type": "code",
   "execution_count": 38,
   "metadata": {},
   "outputs": [],
   "source": [
    "# Goal points hyperparameters\n",
    "\n",
    "change_img_bg = False\n",
    "num_initial_samples = 1000\n",
    "pred_seconds = 3 # [seconds] To compute the goal points \n",
    "                 #           until pred_seconds ahead (assuming constant velocity)\n",
    "NUM_GOAL_POINTS = 32\n",
    "NUM_CLUSTERS = 6 # According to the required multimodality"
   ]
  },
  {
   "cell_type": "code",
   "execution_count": 39,
   "metadata": {},
   "outputs": [],
   "source": [
    "# 0. Load image\n",
    "\n",
    "filename = data_images_folder + \"/\" + str(file_id) + \".png\"\n",
    "real_world_offset = dist_around\n",
    "\n",
    "img = cv2.imread(filename)\n",
    "img = cv2.resize(img, dsize=(600,600))\n",
    "height, width = img.shape[:2]\n",
    "img_size = height\n",
    "scale_x = scale_y = float(height/(2*real_world_offset))\n",
    "\n",
    "cx = int(width/2)\n",
    "cy = int(height/2)\n",
    "car_px = (cy,cx)"
   ]
  },
  {
   "cell_type": "code",
   "execution_count": 40,
   "metadata": {},
   "outputs": [],
   "source": [
    "# 1. Get past observations\n",
    "\n",
    "obs_len = 20\n",
    "pred_len = 30\n",
    "seq_len = obs_len + pred_len\n",
    "skip = 1\n",
    "threshold = 2 # meters\n",
    "obs_origin = 20\n",
    "\n",
    "frames = np.unique(data[:, 0]).tolist() \n",
    "frame_data = []\n",
    "for frame in frames:\n",
    "    frame_data.append(data[frame == data[:, 0], :]) # save info for each frame\n",
    "\n",
    "num_sequences = int(math.ceil((len(frames) - seq_len + 1) / skip))\n",
    "idx = 0\n",
    "\n",
    "num_objs_considered, _non_linear_obj, curr_loss_mask, curr_seq, \\\n",
    "curr_seq_rel, id_frame_list, object_class_list, city_id, ego_origin = \\\n",
    "    dataset.process_window_sequence(idx, frame_data, frames, \\\n",
    "                            seq_len, pred_len, threshold, file_id, split, obs_origin)"
   ]
  },
  {
   "cell_type": "code",
   "execution_count": 41,
   "metadata": {},
   "outputs": [],
   "source": [
    "# 2. Plot AGENT observed trajectory\n",
    "\n",
    "goal_points_folder = split_folder + \"/goal_points\"\n",
    "\n",
    "if not os.path.exists(goal_points_folder):\n",
    "    print(\"Create goal points folder: \", goal_points_folder)\n",
    "    os.makedirs(goal_points_folder) # makedirs creates intermediate folders\n",
    "\n",
    "seq_id = file_id\n",
    "\n",
    "agent_index = np.where(object_class_list == 1)[0].item()\n",
    "agent_obs_seq = curr_seq[agent_index,:,:obs_origin].transpose() # 20 x 2 (\"abs\" around 0)\n",
    "agent_obs_seq_global = agent_obs_seq + origin_pos # abs (hdmap coordinates)\n",
    "agent_obs_seq_global = torch.from_numpy(agent_obs_seq_global)\n",
    "\n",
    "obs_px_points = goal_points_functions.transform_real_world2px(agent_obs_seq_global, origin_pos, real_world_offset, img_size)\n",
    "agent_obs_px_x, agent_obs_px_y = obs_px_points[:,0], obs_px_points[:,1]\n",
    "filename = goal_points_folder + \"/\" + seq_id + \"_obs_traj.png\"\n",
    "goal_points_functions.plot_fepoints(img, filename, agent_obs_px_x, agent_obs_px_y, car_px, change_bg=change_img_bg)"
   ]
  },
  {
   "cell_type": "code",
   "execution_count": 42,
   "metadata": {},
   "outputs": [],
   "source": [
    "# 3. Get feasible area points (N samples)\n",
    "\n",
    "# 3.0. (Optional) Observe random sampling in the whole feasible area\n",
    "\n",
    "rad = 1000 # meters. Cause we want to observe all points around the AGENT\n",
    "\n",
    "fe_y, fe_x = goal_points_functions.get_points(img, car_px, scale_x, rad=10000, color=255, N=num_initial_samples, \n",
    "                        sample_car=True, max_samples=None) # return rows, columns\n",
    "filename = goal_points_folder + \"/\" + seq_id + \"_all_samples.png\"\n",
    "goal_points_functions.plot_fepoints(img, filename, agent_obs_px_x, agent_obs_px_y, car_px, \n",
    "                                    goals_px_x=fe_x, goals_px_y=fe_y, change_bg=change_img_bg)\n",
    "\n",
    "# 3.1. Filter using AGENT estimated velocity in the last observation frame\n",
    "\n",
    "mean_vel = goal_points_functions.get_agent_velocity(torch.transpose(agent_obs_seq_global,0,1))\n",
    "radius = mean_vel * pred_seconds\n",
    "radius_px = radius * scale_x\t\n",
    "\n",
    "fe_y, fe_x = goal_points_functions.get_points(img, car_px, scale_x, rad=radius_px, color=255, N=1024, \n",
    "                            sample_car=True, max_samples=None) # return rows, columns\n",
    "\n",
    "filename = goal_points_folder + \"/\" + seq_id + \"_vel_filter.png\"\n",
    "goal_points_functions.plot_fepoints(img, filename, agent_obs_px_x, agent_obs_px_y, car_px, \n",
    "                                    goals_px_x=fe_x, goals_px_y=fe_y, radius=radius_px, change_bg=change_img_bg)\n",
    "\n",
    "# 3.1. Filter using AGENT estimated orientation (yaw) in the last observation frame\n",
    "\n",
    "mean_yaw = goal_points_functions.get_agent_yaw(torch.transpose(agent_obs_seq_global,0,1)) # radians\n",
    "\n",
    "if mean_yaw >= 0.0:\n",
    "    angle = math.pi/2 - mean_yaw\n",
    "elif mean_yaw < 0.0:\n",
    "    angle = -(math.pi / 2 + (math.pi - abs(mean_yaw)))\n",
    "\n",
    "c, s = np.cos(angle), np.sin(angle)\n",
    "R = np.array([[c,-s], [s, c]])\n",
    "\n",
    "fe_x_trans = fe_x - cx # get px w.r.t. the center of the image to be rotated\n",
    "fe_y_trans = fe_y - cy\n",
    "\n",
    "close_pts = np.hstack((fe_x_trans.reshape(-1,1),fe_y_trans.reshape(-1,1)))\n",
    "close_pts_rotated = np.matmul(close_pts,R).astype(np.int32)\n",
    "\n",
    "fe_x_rot = close_pts_rotated[:,0] + cx\n",
    "fe_y_rot = close_pts_rotated[:,1] + cy\n",
    "\n",
    "filtered_fe_x = fe_x[np.where(fe_y_rot < cy)[0]]\n",
    "filtered_fe_y = fe_y[np.where(fe_y_rot < cy)[0]]\n",
    "\n",
    "filename = goal_points_folder + \"/\" + seq_id + \"_angle_filter.png\"\n",
    "goal_points_functions.plot_fepoints(img, filename, agent_obs_px_x, agent_obs_px_y, car_px, \n",
    "                                    goals_px_x=filtered_fe_x, goals_px_y=filtered_fe_y, radius=radius_px, change_bg=change_img_bg)                                  "
   ]
  },
  {
   "cell_type": "code",
   "execution_count": 43,
   "metadata": {},
   "outputs": [],
   "source": [
    "# 4. Get furthest N samples (closest the the hypothetical radius)\n",
    "\n",
    "dist = []\n",
    "for i in range(len(filtered_fe_x)):\n",
    "    d = math.sqrt(pow(filtered_fe_x[i] - car_px[0],2) + pow(filtered_fe_y[i] - car_px[1],2))\n",
    "    dist.append(d)\n",
    "\n",
    "dist = np.array(dist)\n",
    "\n",
    "furthest_indeces = np.argsort(dist)\n",
    "if len(furthest_indeces) > NUM_GOAL_POINTS:\n",
    "    furthest_indeces = np.argsort(dist)[-NUM_GOAL_POINTS:]\n",
    "\n",
    "final_samples_x, final_samples_y = filtered_fe_x[furthest_indeces], filtered_fe_y[furthest_indeces]\n",
    "\n",
    "try:\n",
    "    diff_points = NUM_GOAL_POINTS - len(final_samples_x)\n",
    "    final_samples_x = np.hstack((final_samples_x, final_samples_x[0]+0.2 * np.random.randn(diff_points)))\n",
    "    final_samples_y = np.hstack((final_samples_y, final_samples_y[0]+0.2 * np.random.randn(diff_points)))\n",
    "except:\n",
    "    final_samples_x = cx + scale_x*np.random.randn(NUM_GOAL_POINTS)\n",
    "    final_samples_y = cy + scale_y*np.random.randn(NUM_GOAL_POINTS)\n",
    "\n",
    "filename = goal_points_folder + \"/\" + seq_id + \"_final_samples.png\"\n",
    "goal_points_functions.plot_fepoints(img, filename, agent_obs_px_x, agent_obs_px_y, car_px, \n",
    "                                    goals_px_x=final_samples_x, goals_px_y=final_samples_y, radius=radius_px, change_bg=change_img_bg)\n",
    "\n",
    "if len(final_samples_x) != NUM_GOAL_POINTS:\n",
    "    print(f\"Final samples does not match with {NUM_GOAL_POINTS} required samples\")\n",
    "    goal_points_functions.plot_fepoints(img, filename, agent_obs_px_x, agent_obs_px_y, car_px, \n",
    "                                        goals_px_x=final_samples_x, goals_px_y=final_samples_y, radius=radius_px, change_bg=change_img_bg)"
   ]
  },
  {
   "cell_type": "code",
   "execution_count": null,
   "metadata": {},
   "outputs": [],
   "source": [
    "# 5. Transform pixels to real-world coordinates\n",
    "\n",
    "final_samples_px = np.hstack((final_samples_y.reshape(-1,1), final_samples_x.reshape(-1,1))) # rows, columns\n",
    "rw_points = goal_points_functions.transform_px2real_world(final_samples_px, origin_pos, real_world_offset, img_size)"
   ]
  },
  {
   "cell_type": "code",
   "execution_count": null,
   "metadata": {},
   "outputs": [],
   "source": [
    "# 6. TODO: Get heatmap and clusters according to the required multimodality"
   ]
  }
 ],
 "metadata": {
  "interpreter": {
   "hash": "3c562046aa5808a75b2400ed2bbc5b6a9cd30bc1684ad1ef3aa070e8eec58b9d"
  },
  "kernelspec": {
   "display_name": "Python 3.8.13 ('carlos_efficient-goals-motion-prediction')",
   "language": "python",
   "name": "python3"
  },
  "language_info": {
   "codemirror_mode": {
    "name": "ipython",
    "version": 3
   },
   "file_extension": ".py",
   "mimetype": "text/x-python",
   "name": "python",
   "nbconvert_exporter": "python",
   "pygments_lexer": "ipython3",
   "version": "3.8.13"
  },
  "orig_nbformat": 4
 },
 "nbformat": 4,
 "nbformat_minor": 2
}
