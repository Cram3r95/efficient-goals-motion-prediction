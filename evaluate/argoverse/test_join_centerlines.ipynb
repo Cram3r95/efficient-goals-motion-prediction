{
 "cells": [
  {
   "cell_type": "code",
   "execution_count": 1,
   "metadata": {},
   "outputs": [],
   "source": [
    "%load_ext autoreload\n",
    "%autoreload 2\n",
    "%reload_ext autoreload"
   ]
  },
  {
   "cell_type": "code",
   "execution_count": 2,
   "metadata": {},
   "outputs": [],
   "source": [
    "import git\n",
    "import sys\n",
    "import os\n",
    "import time\n",
    "import numpy as np\n",
    "import pandas as pd\n",
    "import math\n",
    "import matplotlib.pyplot as plt\n",
    "\n",
    "repo = git.Repo('.', search_parent_directories=True)\n",
    "BASE_DIR = repo.working_tree_dir\n",
    "sys.path.append(BASE_DIR)\n",
    "\n",
    "import model.datasets.argoverse.dataset as dataset\n",
    "import model.datasets.argoverse.dataset_utils as dataset_utils \n",
    "import model.datasets.argoverse.map_functions as map_functions\n",
    "\n",
    "# Set root_dir to the correct path to your dataset folder\n",
    "\n",
    "split_name = \"train\"\n",
    "root_dir = os.path.join(BASE_DIR,f'data/datasets/argoverse/motion-forecasting/{split_name}/')"
   ]
  },
  {
   "cell_type": "code",
   "execution_count": 27,
   "metadata": {},
   "outputs": [],
   "source": [
    "relevant_centerlines_filtered = np.load(root_dir+\"data_processed_1_percent/relevant_centerlines.npz\",allow_pickle=True)"
   ]
  },
  {
   "cell_type": "code",
   "execution_count": 43,
   "metadata": {},
   "outputs": [
    {
     "data": {
      "text/plain": [
       "66.42676238059357"
      ]
     },
     "execution_count": 43,
     "metadata": {},
     "output_type": "execute_result"
    }
   ],
   "source": [
    "relevant_centerlines_filtered['arr_0'].item()['1']['real_world_width']"
   ]
  },
  {
   "cell_type": "code",
   "execution_count": 10,
   "metadata": {},
   "outputs": [
    {
     "name": "stdout",
     "output_type": "stream",
     "text": [
      "Num files:  205942\n"
     ]
    }
   ],
   "source": [
    "files, num_files = dataset_utils.load_list_from_folder(root_dir+\"data\")\n",
    "\n",
    "file_id_list = []\n",
    "root_file_name = None\n",
    "for file_name in files:\n",
    "    if not root_file_name:\n",
    "        root_file_name = os.path.dirname(os.path.abspath(file_name))\n",
    "    file_id = int(os.path.normpath(file_name).split('/')[-1].split('.')[0])\n",
    "    file_id_list.append(file_id)\n",
    "file_id_list.sort()\n",
    "print(\"Num files: \", num_files)"
   ]
  },
  {
   "cell_type": "code",
   "execution_count": 20,
   "metadata": {},
   "outputs": [
    {
     "name": "stdout",
     "output_type": "stream",
     "text": [
      "debug_indeces:  [26613, 56236, 100007, 126363, 139208, 142045, 145818, 150399, 156057, 161756, 163502, 184151, 203875]\n"
     ]
    }
   ],
   "source": [
    "debug_centerlines = [27353, 57791, 102781, 129915, 143124, 146034, 149913, 154633, 160433, 166298, 168101, 189296, 209572]\n",
    "\n",
    "debug_indeces = []\n",
    "\n",
    "for debug_centerline_id in debug_centerlines:\n",
    "    index = file_id_list.index(debug_centerline_id)\n",
    "    debug_indeces.append(index)\n",
    "\n",
    "print(\"debug_indeces: \", debug_indeces)"
   ]
  },
  {
   "cell_type": "code",
   "execution_count": 29,
   "metadata": {},
   "outputs": [
    {
     "data": {
      "text/plain": [
       "(205942, 40, 2)"
      ]
     },
     "execution_count": 29,
     "metadata": {},
     "output_type": "execute_result"
    }
   ],
   "source": [
    "test_centerlines = []\n",
    "i = j = 0\n",
    "for file_index in range(len(file_id_list)):\n",
    "    if file_index in debug_indeces:\n",
    "        test_centerlines.append(debug_relevant_centerlines[j])\n",
    "        j += 1\n",
    "    else:\n",
    "        test_centerlines.append(unfinished_relevant_centerlines[i])\n",
    "        i += 1\n",
    "\n",
    "test_centerlines = np.array(test_centerlines)\n",
    "test_centerlines.shape"
   ]
  },
  {
   "cell_type": "code",
   "execution_count": 28,
   "metadata": {},
   "outputs": [],
   "source": [
    "from model.datasets.argoverse.map_functions import MapFeaturesUtils\n",
    "map_features_utils_instance = MapFeaturesUtils()"
   ]
  },
  {
   "cell_type": "code",
   "execution_count": 32,
   "metadata": {},
   "outputs": [
    {
     "data": {
      "image/png": "[encoded data removed]",
      "text/plain": [
       "<Figure size 576x576 with 1 Axes>"
      ]
     },
     "metadata": {},
     "output_type": "display_data"
    }
   ],
   "source": [
    "file_id = 160433\n",
    "\n",
    "obs_len = 20\n",
    "pred_len = 30\n",
    "\n",
    "seq_path = os.path.join(root_dir+\"data\",str(file_id)+\".csv\")\n",
    "\n",
    "start = time.time()\n",
    "\n",
    "# Compute map features using Argoverse Forecasting Baseline algorithm\n",
    "\n",
    "start = time.time()\n",
    "\n",
    "df = pd.read_csv(seq_path, dtype={\"TIMESTAMP\": str})\n",
    "\n",
    "# Get social and map features for the agent\n",
    "\n",
    "RAW_DATA_FORMAT = {\n",
    "    \"TIMESTAMP\": 0,\n",
    "    \"TRACK_ID\": 1,\n",
    "    \"OBJECT_TYPE\": 2,\n",
    "    \"X\": 3,\n",
    "    \"Y\": 4,\n",
    "    \"CITY_NAME\": 5,\n",
    "}\n",
    "\n",
    "agent_track = df[df[\"OBJECT_TYPE\"] == \"AGENT\"].values\n",
    "city_name = agent_track[0,RAW_DATA_FORMAT[\"CITY_NAME\"]]\n",
    "agent_xy = agent_track[:,[RAW_DATA_FORMAT[\"X\"],RAW_DATA_FORMAT[\"Y\"]]].astype(\"float\")\n",
    "map_features_utils_instance.debug_centerline_and_agent([test_centerlines[file_id_list.index(file_id),:,:]], \n",
    "                                                       agent_xy, obs_len, obs_len+pred_len, split_name, file_id)"
   ]
  },
  {
   "cell_type": "code",
   "execution_count": 33,
   "metadata": {},
   "outputs": [
    {
     "data": {
      "text/plain": [
       "(205942, 40, 2)"
      ]
     },
     "execution_count": 33,
     "metadata": {},
     "output_type": "execute_result"
    }
   ],
   "source": [
    "test_centerlines.shape"
   ]
  },
  {
   "cell_type": "code",
   "execution_count": 35,
   "metadata": {},
   "outputs": [],
   "source": [
    "filename = root_dir+\"data_processed_100_percent/relevant_centerlines.npy\"\n",
    "with open(filename, 'wb') as my_file: np.save(my_file, test_centerlines)"
   ]
  },
  {
   "cell_type": "code",
   "execution_count": 37,
   "metadata": {},
   "outputs": [
    {
     "data": {
      "text/plain": [
       "(205942, 40, 2)"
      ]
     },
     "execution_count": 37,
     "metadata": {},
     "output_type": "execute_result"
    }
   ],
   "source": [
    "relevant_centerlines = np.load(filename)\n",
    "relevant_centerlines.shape"
   ]
  }
 ],
 "metadata": {
  "kernelspec": {
   "display_name": "Python 3.8.13 ('carlos_vsr_mapfe4mp')",
   "language": "python",
   "name": "python3"
  },
  "language_info": {
   "codemirror_mode": {
    "name": "ipython",
    "version": 3
   },
   "file_extension": ".py",
   "mimetype": "text/x-python",
   "name": "python",
   "nbconvert_exporter": "python",
   "pygments_lexer": "ipython3",
   "version": "3.8.13"
  },
  "orig_nbformat": 4,
  "vscode": {
   "interpreter": {
    "hash": "23ec5f46142f59639cbc0610b784427ad5a7b29b5f6f786971843ba12bc604ed"
   }
  }
 },
 "nbformat": 4,
 "nbformat_minor": 2
}
