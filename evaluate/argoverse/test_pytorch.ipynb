{
 "cells": [
  {
   "cell_type": "code",
   "execution_count": 1,
   "metadata": {},
   "outputs": [],
   "source": [
    "import torch\n"
   ]
  },
  {
   "cell_type": "code",
   "execution_count": 35,
   "metadata": {},
   "outputs": [
    {
     "data": {
      "text/plain": [
       "torch.Size([2, 2, 2, 2])"
      ]
     },
     "execution_count": 35,
     "metadata": {},
     "output_type": "execute_result"
    }
   ],
   "source": [
    "# B,L,D = 2,4,2\n",
    "B,M,L,D = 64,6,30,2 # batch_size, modes, pred_len, data_dim\n",
    "my_tensor = torch.randn(B,M,L,D)\n",
    "conf = torch.randn(B,M)\n",
    "# print(\"my_tensor: \", my_tensor)\n",
    "my_tensor.shape"
   ]
  },
  {
   "cell_type": "code",
   "execution_count": 44,
   "metadata": {},
   "outputs": [],
   "source": [
    "def get_sub_tensor(my_tensor, idx):\n",
    "    return my_tensor[torch.arange(B), idx, :, :].squeeze()"
   ]
  },
  {
   "cell_type": "code",
   "execution_count": 45,
   "metadata": {},
   "outputs": [
    {
     "data": {
      "text/plain": [
       "torch.Size([2, 2, 2])"
      ]
     },
     "execution_count": 45,
     "metadata": {},
     "output_type": "execute_result"
    }
   ],
   "source": [
    "# best_idx = torch.tensor([3,0])\n",
    "idx = torch.softmax(conf,dim=1)\n",
    "best_idx = idx.argmax(1)\n",
    "\n",
    "my_tensor_sub = get_sub_tensor(my_tensor, best_idx)\n",
    "# print(my_tensor_sub, my_tensor_sub.shape)\n",
    "my_tensor_sub.shape"
   ]
  },
  {
   "cell_type": "code",
   "execution_count": 37,
   "metadata": {},
   "outputs": [
    {
     "data": {
      "text/plain": [
       "tensor([[[[-0.3214, -0.7907],\n",
       "          [-0.7917,  0.3795]],\n",
       "\n",
       "         [[ 1.6477,  0.4171],\n",
       "          [-1.7287, -0.8398]]],\n",
       "\n",
       "\n",
       "        [[[ 0.3904, -0.0180],\n",
       "          [ 1.0596, -0.0710]],\n",
       "\n",
       "         [[ 0.2248,  1.0067],\n",
       "          [ 0.2245,  0.6394]]]])"
      ]
     },
     "execution_count": 37,
     "metadata": {},
     "output_type": "execute_result"
    }
   ],
   "source": [
    "my_tensor"
   ]
  },
  {
   "cell_type": "code",
   "execution_count": 38,
   "metadata": {},
   "outputs": [
    {
     "data": {
      "text/plain": [
       "tensor([[[ 1.6477,  0.4171],\n",
       "         [-1.7287, -0.8398]],\n",
       "\n",
       "        [[ 0.3904, -0.0180],\n",
       "         [ 1.0596, -0.0710]]])"
      ]
     },
     "execution_count": 38,
     "metadata": {},
     "output_type": "execute_result"
    }
   ],
   "source": [
    "my_tensor_sub"
   ]
  },
  {
   "cell_type": "code",
   "execution_count": 39,
   "metadata": {},
   "outputs": [
    {
     "data": {
      "text/plain": [
       "tensor([1, 0])"
      ]
     },
     "execution_count": 39,
     "metadata": {},
     "output_type": "execute_result"
    }
   ],
   "source": [
    "best_idx"
   ]
  },
  {
   "cell_type": "code",
   "execution_count": null,
   "metadata": {},
   "outputs": [],
   "source": []
  }
 ],
 "metadata": {
  "kernelspec": {
   "display_name": "Python 3.8.13 ('carlos_vsr_mapfe4mp')",
   "language": "python",
   "name": "python3"
  },
  "language_info": {
   "codemirror_mode": {
    "name": "ipython",
    "version": 3
   },
   "file_extension": ".py",
   "mimetype": "text/x-python",
   "name": "python",
   "nbconvert_exporter": "python",
   "pygments_lexer": "ipython3",
   "version": "3.8.13"
  },
  "orig_nbformat": 4,
  "vscode": {
   "interpreter": {
    "hash": "23ec5f46142f59639cbc0610b784427ad5a7b29b5f6f786971843ba12bc604ed"
   }
  }
 },
 "nbformat": 4,
 "nbformat_minor": 2
}
